{
 "cells": [
  {
   "cell_type": "markdown",
   "metadata": {},
   "source": [
    "# Example\n",
    "\n",
    "This document provides a brief overview of `project_manager`'s basic functionality."
   ]
  },
  {
   "cell_type": "markdown",
   "metadata": {},
   "source": [
    "## Environment setup"
   ]
  },
  {
   "cell_type": "code",
   "execution_count": 1,
   "metadata": {},
   "outputs": [
    {
     "name": "stdout",
     "output_type": "stream",
     "text": [
      ".\n",
      "├── Example.ipynb\n",
      "├── config.yaml\n",
      "└── dummy_project\n",
      "    ├── my_conf.yaml\n",
      "    └── run.py\n",
      "\n",
      "1 directory, 4 files\n"
     ]
    }
   ],
   "source": [
    "tree"
   ]
  },
  {
   "cell_type": "code",
   "execution_count": 2,
   "metadata": {},
   "outputs": [
    {
     "name": "stdout",
     "output_type": "stream",
     "text": [
      "project_source: dummy_project\n",
      "working_dir: tmp\n",
      "\n",
      "exec_command:\n",
      "    - python3 run.py\n",
      "result_files:\n",
      "    - results\n",
      "\n",
      "base_config: dummy_project/my_conf.yaml\n",
      "config_parameters:\n",
      "    - key: message\n",
      "      values: [A, B, C]\n"
     ]
    }
   ],
   "source": [
    "cat config.yaml"
   ]
  },
  {
   "cell_type": "code",
   "execution_count": 3,
   "metadata": {},
   "outputs": [
    {
     "name": "stdout",
     "output_type": "stream",
     "text": [
      "message: 'this is important'\n"
     ]
    }
   ],
   "source": [
    "cat dummy_project/my_conf.yaml"
   ]
  },
  {
   "cell_type": "code",
   "execution_count": 4,
   "metadata": {},
   "outputs": [
    {
     "name": "stdout",
     "output_type": "stream",
     "text": [
      "import os\n",
      "import yaml\n",
      "\n",
      "\n",
      "def main():\n",
      "    with open('my_conf.yaml') as fd:\n",
      "        config = yaml.full_load(fd)\n",
      "\n",
      "    os.makedirs('results')\n",
      "    with open('results/data.txt', 'w') as fd:\n",
      "        fd.write(config['message'])\n",
      "\n",
      "\n",
      "if __name__ == '__main__':\n",
      "    main()\n"
     ]
    }
   ],
   "source": [
    "cat dummy_project/run.py"
   ]
  },
  {
   "cell_type": "markdown",
   "metadata": {},
   "source": [
    "## Pipeline execution"
   ]
  },
  {
   "cell_type": "markdown",
   "metadata": {},
   "source": [
    "### Setup directory for each configuration"
   ]
  },
  {
   "cell_type": "code",
   "execution_count": 5,
   "metadata": {},
   "outputs": [
    {
     "name": "stdout",
     "output_type": "stream",
     "text": [
      "Setting up environments: 100%|███████████████████| 3/3 [00:00<00:00, 365.59it/s]\n"
     ]
    }
   ],
   "source": [
    "project_manager build -c config.yaml"
   ]
  },
  {
   "cell_type": "markdown",
   "metadata": {},
   "source": [
    "### Execute scripts for each configuration"
   ]
  },
  {
   "cell_type": "code",
   "execution_count": 6,
   "metadata": {},
   "outputs": [
    {
     "name": "stdout",
     "output_type": "stream",
     "text": [
      "  0%|                                                     | 0/3 [00:00<?, ?it/s]run.message=B\n",
      " > python3 run.py\n",
      " 33%|███████████████                              | 1/3 [00:00<00:00,  7.74it/s]run.message=C\n",
      " > python3 run.py\n",
      "run.message=A\n",
      " > python3 run.py\n",
      "100%|█████████████████████████████████████████████| 3/3 [00:00<00:00,  8.44it/s]\n"
     ]
    }
   ],
   "source": [
    "project_manager run -c config.yaml"
   ]
  },
  {
   "cell_type": "markdown",
   "metadata": {},
   "source": [
    "### Gather results from each run"
   ]
  },
  {
   "cell_type": "code",
   "execution_count": 7,
   "metadata": {},
   "outputs": [
    {
     "name": "stdout",
     "output_type": "stream",
     "text": [
      "run.message=B\n",
      " > results/data.txt\n",
      "run.message=C\n",
      " > results/data.txt\n",
      "run.message=A\n",
      " > results/data.txt\n"
     ]
    }
   ],
   "source": [
    "project_manager gather -c config.yaml"
   ]
  },
  {
   "cell_type": "markdown",
   "metadata": {},
   "source": [
    "## Investigate results"
   ]
  },
  {
   "cell_type": "code",
   "execution_count": 8,
   "metadata": {},
   "outputs": [
    {
     "name": "stdout",
     "output_type": "stream",
     "text": [
      "tmp/\n",
      "├── aggregated_results\n",
      "│   └── results\n",
      "│       ├── data.message=A.txt\n",
      "│       ├── data.message=B.txt\n",
      "│       └── data.message=C.txt\n",
      "├── run.message=A\n",
      "│   ├── my_conf.yaml\n",
      "│   ├── results\n",
      "│   │   └── data.txt\n",
      "│   └── run.py\n",
      "├── run.message=B\n",
      "│   ├── my_conf.yaml\n",
      "│   ├── results\n",
      "│   │   └── data.txt\n",
      "│   └── run.py\n",
      "└── run.message=C\n",
      "    ├── my_conf.yaml\n",
      "    ├── results\n",
      "    │   └── data.txt\n",
      "    └── run.py\n",
      "\n",
      "8 directories, 12 files\n"
     ]
    }
   ],
   "source": [
    "tree tmp/"
   ]
  },
  {
   "cell_type": "code",
   "execution_count": 9,
   "metadata": {},
   "outputs": [
    {
     "name": "stdout",
     "output_type": "stream",
     "text": [
      "ABC"
     ]
    }
   ],
   "source": [
    "cat tmp/aggregated_results/results/*"
   ]
  }
 ],
 "metadata": {
  "kernelspec": {
   "display_name": "Bash",
   "language": "bash",
   "name": "bash"
  },
  "language_info": {
   "codemirror_mode": "shell",
   "file_extension": ".sh",
   "mimetype": "text/x-sh",
   "name": "bash"
  },
  "toc-autonumbering": true
 },
 "nbformat": 4,
 "nbformat_minor": 2
}
